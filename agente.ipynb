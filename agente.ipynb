{
 "cells": [
  {
   "cell_type": "code",
   "execution_count": 1,
   "id": "841926c6",
   "metadata": {},
   "outputs": [
    {
     "name": "stdout",
     "output_type": "stream",
     "text": [
      "Attempting to load .env file...\n",
      "OPENAI_API_KEY found in environment. Length: 164, Ends with: ...N9UA\n",
      "Tracing activo: True\n",
      "Initializing  OpenAIModels...\n",
      " OpenAIModels initialized successfully.\n"
     ]
    }
   ],
   "source": [
    "from src.config.config import model_4_1_mini as model\n",
    "from src.config.prompt import prompt as mi_prompt\n",
    "\n",
    "import os\n",
    "import openai\n",
    "from langchain.chains import LLMChain\n",
    "from src.tools.rag import RAGLocal\n",
    "from langchain_core.prompts import ChatPromptTemplate\n",
    "from langchain_openai import ChatOpenAI\n",
    "from langgraph.checkpoint.memory import MemorySaver\n",
    "from langgraph.graph import END, StateGraph, START\n",
    "from langgraph.prebuilt import tools_condition\n",
    "from pydantic import BaseModel\n",
    "from langgraph.graph import END\n",
    "\n",
    "\n",
    "\n",
    "from src.componentes.utils import create_tool_node_with_fallback, route_tools, handle_tool_error,_print_event\n",
    "from src.componentes.assitant import Assistant\n",
    "from src.componentes.estado import State\n",
    "from src.tools.Herramienta_RAG import Herramienta_RAG as raw_tool\n",
    "\n",
    "\n",
    "\n",
    "from src.tools.rag import RAGLocal"
   ]
  },
  {
   "cell_type": "code",
   "execution_count": 2,
   "id": "e52b1797",
   "metadata": {},
   "outputs": [],
   "source": [
    "rag = RAGLocal(root_folder=\"data\", index_folder=\"data/faiss_indexes\")\n",
    "rag.load_index()\n",
    "Herramienta_RAG = raw_tool.bind(rag=rag)"
   ]
  },
  {
   "cell_type": "code",
   "execution_count": 3,
   "id": "9f64f70e",
   "metadata": {},
   "outputs": [
    {
     "name": "stdout",
     "output_type": "stream",
     "text": [
      "Fallo inicializando el agente: Unsupported function\n",
      "\n",
      "bound=StructuredTool(name='Herramienta_RAG', description='Siempre usa esta herramienta Esta herramienta te permite buscar información sobre:\\n        redes neuronales\\n        deep learning\\n        inteligencia artificial\\n        machine learning\\n        aprendizaje profundo\\n        aprendizaje automático\\n\\n\\n    Args:\\n        input: el texto para realizar la busqueda en la base de datos vecotrizada\\n        k: el número de trozos que recuperamos de la base de datos vectorizada', args_schema=<class 'langchain_core.utils.pydantic.Herramienta_RAG'>, func=<function Herramienta_RAG at 0x00000121DF981FC0>) kwargs={'rag': <src.tools.rag.RAGLocal object at 0x000001219488EF20>} config={} config_factories=[]\n",
      "\n",
      "Functions must be passed in as Dict, pydantic.BaseModel, or Callable. If they're a dict they must either be in OpenAI function format or valid JSON schema with top-level 'title' and 'description' keys.\n"
     ]
    },
    {
     "ename": "ValueError",
     "evalue": "Unsupported function\n\nbound=StructuredTool(name='Herramienta_RAG', description='Siempre usa esta herramienta Esta herramienta te permite buscar información sobre:\\n        redes neuronales\\n        deep learning\\n        inteligencia artificial\\n        machine learning\\n        aprendizaje profundo\\n        aprendizaje automático\\n\\n\\n    Args:\\n        input: el texto para realizar la busqueda en la base de datos vecotrizada\\n        k: el número de trozos que recuperamos de la base de datos vectorizada', args_schema=<class 'langchain_core.utils.pydantic.Herramienta_RAG'>, func=<function Herramienta_RAG at 0x00000121DF981FC0>) kwargs={'rag': <src.tools.rag.RAGLocal object at 0x000001219488EF20>} config={} config_factories=[]\n\nFunctions must be passed in as Dict, pydantic.BaseModel, or Callable. If they're a dict they must either be in OpenAI function format or valid JSON schema with top-level 'title' and 'description' keys.",
     "output_type": "error",
     "traceback": [
      "\u001b[1;31m---------------------------------------------------------------------------\u001b[0m",
      "\u001b[1;31mValueError\u001b[0m                                Traceback (most recent call last)",
      "Cell \u001b[1;32mIn[3], line 51\u001b[0m\n\u001b[0;32m     49\u001b[0m         \u001b[38;5;28mprint\u001b[39m(\u001b[38;5;124m\"\u001b[39m\u001b[38;5;124mFallo inicializando el agente:\u001b[39m\u001b[38;5;124m\"\u001b[39m, e)\n\u001b[0;32m     50\u001b[0m         \u001b[38;5;28;01mraise\u001b[39;00m \n\u001b[1;32m---> 51\u001b[0m agente \u001b[38;5;241m=\u001b[39m \u001b[43minitialize_agent\u001b[49m\u001b[43m(\u001b[49m\u001b[43m)\u001b[49m\n",
      "Cell \u001b[1;32mIn[3], line 18\u001b[0m, in \u001b[0;36minitialize_agent\u001b[1;34m()\u001b[0m\n\u001b[0;32m     13\u001b[0m tools \u001b[38;5;241m=\u001b[39m [\n\u001b[0;32m     14\u001b[0m     Herramienta_RAG\n\u001b[0;32m     15\u001b[0m     ]\n\u001b[0;32m     17\u001b[0m \u001b[38;5;66;03m# Bind the tools to the LLM via the prompt\u001b[39;00m\n\u001b[1;32m---> 18\u001b[0m assistant_runnable \u001b[38;5;241m=\u001b[39m prompt \u001b[38;5;241m|\u001b[39m \u001b[43mllm\u001b[49m\u001b[38;5;241;43m.\u001b[39;49m\u001b[43mbind_tools\u001b[49m\u001b[43m(\u001b[49m\u001b[43mtools\u001b[49m\u001b[43m \u001b[49m\u001b[43m)\u001b[49m\n\u001b[0;32m     20\u001b[0m \u001b[38;5;66;03m# Build the state graph for the agent\u001b[39;00m\n\u001b[0;32m     21\u001b[0m \u001b[38;5;66;03m#Initialize the Agent\u001b[39;00m\n\u001b[0;32m     22\u001b[0m builder \u001b[38;5;241m=\u001b[39m StateGraph(State)\n",
      "File \u001b[1;32md:\\Cursos\\Agentes de IA para Principiantes\\mi_agente\\.venv\\lib\\site-packages\\langchain_openai\\chat_models\\base.py:1651\u001b[0m, in \u001b[0;36mBaseChatOpenAI.bind_tools\u001b[1;34m(self, tools, tool_choice, strict, parallel_tool_calls, **kwargs)\u001b[0m\n\u001b[0;32m   1649\u001b[0m \u001b[38;5;28;01mif\u001b[39;00m parallel_tool_calls \u001b[38;5;129;01mis\u001b[39;00m \u001b[38;5;129;01mnot\u001b[39;00m \u001b[38;5;28;01mNone\u001b[39;00m:\n\u001b[0;32m   1650\u001b[0m     kwargs[\u001b[38;5;124m\"\u001b[39m\u001b[38;5;124mparallel_tool_calls\u001b[39m\u001b[38;5;124m\"\u001b[39m] \u001b[38;5;241m=\u001b[39m parallel_tool_calls\n\u001b[1;32m-> 1651\u001b[0m formatted_tools \u001b[38;5;241m=\u001b[39m [\n\u001b[0;32m   1652\u001b[0m     convert_to_openai_tool(tool, strict\u001b[38;5;241m=\u001b[39mstrict) \u001b[38;5;28;01mfor\u001b[39;00m tool \u001b[38;5;129;01min\u001b[39;00m tools\n\u001b[0;32m   1653\u001b[0m ]\n\u001b[0;32m   1654\u001b[0m tool_names \u001b[38;5;241m=\u001b[39m []\n\u001b[0;32m   1655\u001b[0m \u001b[38;5;28;01mfor\u001b[39;00m tool \u001b[38;5;129;01min\u001b[39;00m formatted_tools:\n",
      "File \u001b[1;32md:\\Cursos\\Agentes de IA para Principiantes\\mi_agente\\.venv\\lib\\site-packages\\langchain_openai\\chat_models\\base.py:1652\u001b[0m, in \u001b[0;36m<listcomp>\u001b[1;34m(.0)\u001b[0m\n\u001b[0;32m   1649\u001b[0m \u001b[38;5;28;01mif\u001b[39;00m parallel_tool_calls \u001b[38;5;129;01mis\u001b[39;00m \u001b[38;5;129;01mnot\u001b[39;00m \u001b[38;5;28;01mNone\u001b[39;00m:\n\u001b[0;32m   1650\u001b[0m     kwargs[\u001b[38;5;124m\"\u001b[39m\u001b[38;5;124mparallel_tool_calls\u001b[39m\u001b[38;5;124m\"\u001b[39m] \u001b[38;5;241m=\u001b[39m parallel_tool_calls\n\u001b[0;32m   1651\u001b[0m formatted_tools \u001b[38;5;241m=\u001b[39m [\n\u001b[1;32m-> 1652\u001b[0m     \u001b[43mconvert_to_openai_tool\u001b[49m\u001b[43m(\u001b[49m\u001b[43mtool\u001b[49m\u001b[43m,\u001b[49m\u001b[43m \u001b[49m\u001b[43mstrict\u001b[49m\u001b[38;5;241;43m=\u001b[39;49m\u001b[43mstrict\u001b[49m\u001b[43m)\u001b[49m \u001b[38;5;28;01mfor\u001b[39;00m tool \u001b[38;5;129;01min\u001b[39;00m tools\n\u001b[0;32m   1653\u001b[0m ]\n\u001b[0;32m   1654\u001b[0m tool_names \u001b[38;5;241m=\u001b[39m []\n\u001b[0;32m   1655\u001b[0m \u001b[38;5;28;01mfor\u001b[39;00m tool \u001b[38;5;129;01min\u001b[39;00m formatted_tools:\n",
      "File \u001b[1;32md:\\Cursos\\Agentes de IA para Principiantes\\mi_agente\\.venv\\lib\\site-packages\\langchain_core\\utils\\function_calling.py:584\u001b[0m, in \u001b[0;36mconvert_to_openai_tool\u001b[1;34m(tool, strict)\u001b[0m\n\u001b[0;32m    582\u001b[0m     \u001b[38;5;28;01mif\u001b[39;00m (tool\u001b[38;5;241m.\u001b[39mget(\u001b[38;5;124m\"\u001b[39m\u001b[38;5;124mtype\u001b[39m\u001b[38;5;124m\"\u001b[39m) \u001b[38;5;129;01mor\u001b[39;00m \u001b[38;5;124m\"\u001b[39m\u001b[38;5;124m\"\u001b[39m)\u001b[38;5;241m.\u001b[39mstartswith(\u001b[38;5;124m\"\u001b[39m\u001b[38;5;124mweb_search_preview\u001b[39m\u001b[38;5;124m\"\u001b[39m):\n\u001b[0;32m    583\u001b[0m         \u001b[38;5;28;01mreturn\u001b[39;00m tool\n\u001b[1;32m--> 584\u001b[0m oai_function \u001b[38;5;241m=\u001b[39m \u001b[43mconvert_to_openai_function\u001b[49m\u001b[43m(\u001b[49m\u001b[43mtool\u001b[49m\u001b[43m,\u001b[49m\u001b[43m \u001b[49m\u001b[43mstrict\u001b[49m\u001b[38;5;241;43m=\u001b[39;49m\u001b[43mstrict\u001b[49m\u001b[43m)\u001b[49m\n\u001b[0;32m    585\u001b[0m \u001b[38;5;28;01mreturn\u001b[39;00m {\u001b[38;5;124m\"\u001b[39m\u001b[38;5;124mtype\u001b[39m\u001b[38;5;124m\"\u001b[39m: \u001b[38;5;124m\"\u001b[39m\u001b[38;5;124mfunction\u001b[39m\u001b[38;5;124m\"\u001b[39m, \u001b[38;5;124m\"\u001b[39m\u001b[38;5;124mfunction\u001b[39m\u001b[38;5;124m\"\u001b[39m: oai_function}\n",
      "File \u001b[1;32md:\\Cursos\\Agentes de IA para Principiantes\\mi_agente\\.venv\\lib\\site-packages\\langchain_core\\utils\\function_calling.py:486\u001b[0m, in \u001b[0;36mconvert_to_openai_function\u001b[1;34m(function, strict)\u001b[0m\n\u001b[0;32m    479\u001b[0m \u001b[38;5;28;01melse\u001b[39;00m:\n\u001b[0;32m    480\u001b[0m     msg \u001b[38;5;241m=\u001b[39m (\n\u001b[0;32m    481\u001b[0m         \u001b[38;5;124mf\u001b[39m\u001b[38;5;124m\"\u001b[39m\u001b[38;5;124mUnsupported function\u001b[39m\u001b[38;5;130;01m\\n\u001b[39;00m\u001b[38;5;130;01m\\n\u001b[39;00m\u001b[38;5;132;01m{\u001b[39;00mfunction\u001b[38;5;132;01m}\u001b[39;00m\u001b[38;5;130;01m\\n\u001b[39;00m\u001b[38;5;130;01m\\n\u001b[39;00m\u001b[38;5;124mFunctions must be passed in\u001b[39m\u001b[38;5;124m\"\u001b[39m\n\u001b[0;32m    482\u001b[0m         \u001b[38;5;124m\"\u001b[39m\u001b[38;5;124m as Dict, pydantic.BaseModel, or Callable. If they\u001b[39m\u001b[38;5;124m'\u001b[39m\u001b[38;5;124mre a dict they must\u001b[39m\u001b[38;5;124m\"\u001b[39m\n\u001b[0;32m    483\u001b[0m         \u001b[38;5;124m\"\u001b[39m\u001b[38;5;124m either be in OpenAI function format or valid JSON schema with top-level\u001b[39m\u001b[38;5;124m\"\u001b[39m\n\u001b[0;32m    484\u001b[0m         \u001b[38;5;124m\"\u001b[39m\u001b[38;5;124m \u001b[39m\u001b[38;5;124m'\u001b[39m\u001b[38;5;124mtitle\u001b[39m\u001b[38;5;124m'\u001b[39m\u001b[38;5;124m and \u001b[39m\u001b[38;5;124m'\u001b[39m\u001b[38;5;124mdescription\u001b[39m\u001b[38;5;124m'\u001b[39m\u001b[38;5;124m keys.\u001b[39m\u001b[38;5;124m\"\u001b[39m\n\u001b[0;32m    485\u001b[0m     )\n\u001b[1;32m--> 486\u001b[0m     \u001b[38;5;28;01mraise\u001b[39;00m \u001b[38;5;167;01mValueError\u001b[39;00m(msg)\n\u001b[0;32m    488\u001b[0m \u001b[38;5;28;01mif\u001b[39;00m strict \u001b[38;5;129;01mis\u001b[39;00m \u001b[38;5;129;01mnot\u001b[39;00m \u001b[38;5;28;01mNone\u001b[39;00m:\n\u001b[0;32m    489\u001b[0m     \u001b[38;5;28;01mif\u001b[39;00m \u001b[38;5;124m\"\u001b[39m\u001b[38;5;124mstrict\u001b[39m\u001b[38;5;124m\"\u001b[39m \u001b[38;5;129;01min\u001b[39;00m oai_function \u001b[38;5;129;01mand\u001b[39;00m oai_function[\u001b[38;5;124m\"\u001b[39m\u001b[38;5;124mstrict\u001b[39m\u001b[38;5;124m\"\u001b[39m] \u001b[38;5;241m!=\u001b[39m strict:\n",
      "\u001b[1;31mValueError\u001b[0m: Unsupported function\n\nbound=StructuredTool(name='Herramienta_RAG', description='Siempre usa esta herramienta Esta herramienta te permite buscar información sobre:\\n        redes neuronales\\n        deep learning\\n        inteligencia artificial\\n        machine learning\\n        aprendizaje profundo\\n        aprendizaje automático\\n\\n\\n    Args:\\n        input: el texto para realizar la busqueda en la base de datos vecotrizada\\n        k: el número de trozos que recuperamos de la base de datos vectorizada', args_schema=<class 'langchain_core.utils.pydantic.Herramienta_RAG'>, func=<function Herramienta_RAG at 0x00000121DF981FC0>) kwargs={'rag': <src.tools.rag.RAGLocal object at 0x000001219488EF20>} config={} config_factories=[]\n\nFunctions must be passed in as Dict, pydantic.BaseModel, or Callable. If they're a dict they must either be in OpenAI function format or valid JSON schema with top-level 'title' and 'description' keys."
     ]
    }
   ],
   "source": [
    "\n",
    "\n",
    "def initialize_agent():\n",
    "\n",
    "    try:\n",
    "        # Define the LLM for the agent\n",
    "        llm = model #gpt-4.1-2025-04-14 / claude-3-5-sonnet-latest /gpt-4o-2024-08-06 /gpt-4.1-2025-04-14\n",
    "\n",
    "        # Define the system prompt for the agent using a chat prompt template\n",
    "        # Build the prompt template\n",
    "        prompt = mi_prompt\n",
    "\n",
    "\n",
    "        # Define the tools that the agent can use\n",
    "        tools = [\n",
    "            Herramienta_RAG\n",
    "            ]\n",
    "\n",
    "        # Bind the tools to the LLM via the prompt\n",
    "        assistant_runnable = prompt | llm.bind_tools(tools )\n",
    "\n",
    "        # Build the state graph for the agent\n",
    "        #Initialize the Agent\n",
    "        builder = StateGraph(State)\n",
    "        #Define Nodes\n",
    "        builder.add_node(\"assistant\", Assistant(assistant_runnable))\n",
    "        builder.add_node(\"tools\", create_tool_node_with_fallback(tools))\n",
    "\n",
    "        #Define edges\n",
    "        builder.add_edge(START, \"assistant\")\n",
    "        builder.add_conditional_edges(\n",
    "            \"assistant\", route_tools, [\"tools\", END]\n",
    "        )\n",
    "        builder.add_edge(\"tools\", \"assistant\")\n",
    "\n",
    "\n",
    "\n",
    "\n",
    "        # Set up the memory checkpointer for the graph\n",
    "        memory = MemorySaver()\n",
    "        agent_graph = builder.compile(\n",
    "            checkpointer=memory,\n",
    "            # NEW: The graph will always halt before executing the \"sensitive_tools\" node.\n",
    "            # The user can approve or reject (or even alter the request) before\n",
    "            # the assistant continues\n",
    "            #interrupt_before=[\"sensitive_tools\"],\n",
    "        )\n",
    "        return agent_graph\n",
    "        \n",
    "    except Exception as e:\n",
    "        print(\"Fallo inicializando el agente:\", e)\n",
    "        raise \n",
    "agente = initialize_agent()\n"
   ]
  },
  {
   "cell_type": "code",
   "execution_count": null,
   "id": "85202a5f",
   "metadata": {},
   "outputs": [
    {
     "data": {
      "image/png": "[encoded data removed]",
      "text/plain": [
       "<IPython.core.display.Image object>"
      ]
     },
     "metadata": {},
     "output_type": "display_data"
    }
   ],
   "source": [
    "from IPython.display import Image, display\n",
    "\n",
    "try:\n",
    "    display(Image(agente.get_graph(xray=True).draw_mermaid_png()))\n",
    "except Exception:\n",
    "    # This requires some extra dependencies and is optional\n",
    "    pass"
   ]
  },
  {
   "cell_type": "code",
   "execution_count": null,
   "id": "e1a2074a",
   "metadata": {},
   "outputs": [
    {
     "ename": "AttributeError",
     "evalue": "'NoneType' object has no attribute 'stream'",
     "output_type": "error",
     "traceback": [
      "\u001b[1;31m---------------------------------------------------------------------------\u001b[0m",
      "\u001b[1;31mAttributeError\u001b[0m                            Traceback (most recent call last)",
      "Cell \u001b[1;32mIn[13], line 21\u001b[0m\n\u001b[0;32m     19\u001b[0m _printed \u001b[38;5;241m=\u001b[39m \u001b[38;5;28mset\u001b[39m()\n\u001b[0;32m     20\u001b[0m \u001b[38;5;28;01mfor\u001b[39;00m interaccion \u001b[38;5;129;01min\u001b[39;00m interacciones:\n\u001b[1;32m---> 21\u001b[0m     events \u001b[38;5;241m=\u001b[39m \u001b[43magente\u001b[49m\u001b[38;5;241;43m.\u001b[39;49m\u001b[43mstream\u001b[49m(\n\u001b[0;32m     22\u001b[0m         {\u001b[38;5;124m\"\u001b[39m\u001b[38;5;124mmessages\u001b[39m\u001b[38;5;124m\"\u001b[39m: (\u001b[38;5;124m\"\u001b[39m\u001b[38;5;124muser\u001b[39m\u001b[38;5;124m\"\u001b[39m, interaccion)}, config, stream_mode\u001b[38;5;241m=\u001b[39m\u001b[38;5;124m\"\u001b[39m\u001b[38;5;124mvalues\u001b[39m\u001b[38;5;124m\"\u001b[39m\n\u001b[0;32m     23\u001b[0m     )\n\u001b[0;32m     24\u001b[0m     \u001b[38;5;28;01mfor\u001b[39;00m event \u001b[38;5;129;01min\u001b[39;00m events:\n\u001b[0;32m     25\u001b[0m         _print_event(event, _printed)\n",
      "\u001b[1;31mAttributeError\u001b[0m: 'NoneType' object has no attribute 'stream'"
     ]
    }
   ],
   "source": [
    "interacciones = [\n",
    "\n",
    "    \"Que es una red neuronal?\",\n",
    "\n",
    "]\n",
    "\n",
    "\n",
    "\n",
    "\n",
    "\n",
    "config = {\n",
    "    \"configurable\": {\n",
    "        # Checkpoints are accessed by thread_id\n",
    "        \"thread_id\": \"Prueba xxx\",\n",
    "    }\n",
    "}\n",
    "\n",
    "\n",
    "_printed = set()\n",
    "for interaccion in interacciones:\n",
    "    events = agente.stream(\n",
    "        {\"messages\": (\"user\", interaccion)}, config, stream_mode=\"values\"\n",
    "    )\n",
    "    for event in events:\n",
    "        _print_event(event, _printed)"
   ]
  },
  {
   "cell_type": "code",
   "execution_count": null,
   "id": "e935f89d",
   "metadata": {},
   "outputs": [],
   "source": []
  }
 ],
 "metadata": {
  "kernelspec": {
   "display_name": ".venv",
   "language": "python",
   "name": "python3"
  },
  "language_info": {
   "codemirror_mode": {
    "name": "ipython",
    "version": 3
   },
   "file_extension": ".py",
   "mimetype": "text/x-python",
   "name": "python",
   "nbconvert_exporter": "python",
   "pygments_lexer": "ipython3",
   "version": "3.10.2"
  }
 },
 "nbformat": 4,
 "nbformat_minor": 5
}
