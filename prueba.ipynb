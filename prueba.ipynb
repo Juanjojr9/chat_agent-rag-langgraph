{
 "cells": [
  {
   "cell_type": "code",
   "execution_count": 1,
   "id": "0fa44f29",
   "metadata": {},
   "outputs": [
    {
     "name": "stdout",
     "output_type": "stream",
     "text": [
      "Attempting to load .env file...\n",
      "OPENAI_API_KEY found in environment. Length: 164, Ends with: ...N9UA\n",
      "Initializing  OpenAIModels...\n",
      " OpenAIModels initialized successfully.\n"
     ]
    }
   ],
   "source": [
    "from src.config.config import model_4_1_mini as model"
   ]
  },
  {
   "cell_type": "code",
   "execution_count": null,
   "id": "2651b4b9",
   "metadata": {},
   "outputs": [],
   "source": [
    "\n",
    "from src.config.prompt import prompt\n",
    "from src.tools.rag_promp import modelo_rag\n",
    "import os\n",
    "import openai\n",
    "from langchain.chains import LLMChain\n",
    "from src.tools.rag import RAGLocal"
   ]
  },
  {
   "cell_type": "code",
   "execution_count": 3,
   "id": "0b08f5fd",
   "metadata": {},
   "outputs": [
    {
     "data": {
      "text/plain": [
       "AIMessage(content='¡Hola! ¿En qué puedo ayudarte hoy?', additional_kwargs={'refusal': None}, response_metadata={'token_usage': {'completion_tokens': 10, 'prompt_tokens': 8, 'total_tokens': 18, 'completion_tokens_details': {'accepted_prediction_tokens': 0, 'audio_tokens': 0, 'reasoning_tokens': 0, 'rejected_prediction_tokens': 0}, 'prompt_tokens_details': {'audio_tokens': 0, 'cached_tokens': 0}}, 'model_name': 'gpt-4.1-mini-2025-04-14', 'system_fingerprint': None, 'id': 'chatcmpl-BwRxT93jXuIyUanuT15Lh6rwjjFG5', 'service_tier': 'default', 'finish_reason': 'stop', 'logprobs': None}, id='run--daab93bf-9846-47a9-81ea-b41b6de0bcfd-0', usage_metadata={'input_tokens': 8, 'output_tokens': 10, 'total_tokens': 18, 'input_token_details': {'audio': 0, 'cache_read': 0}, 'output_token_details': {'audio': 0, 'reasoning': 0}})"
      ]
     },
     "execution_count": 3,
     "metadata": {},
     "output_type": "execute_result"
    }
   ],
   "source": [
    "model.invoke(\"Hola\")"
   ]
  },
  {
   "cell_type": "code",
   "execution_count": 4,
   "id": "2e080bc4",
   "metadata": {},
   "outputs": [],
   "source": [
    "full_model = prompt | model"
   ]
  },
  {
   "cell_type": "code",
   "execution_count": 8,
   "id": "4f1dd35f",
   "metadata": {},
   "outputs": [
    {
     "name": "stdout",
     "output_type": "stream",
     "text": [
      "En la esfera del tiempo la respuesta hallarás,  \n",
      "son las 13:29 en este instante que das.  \n",
      "\n",
      "Hola JuanJo, ahora son las 13:29 del miércoles, 23 de julio de 2025. ¿En qué más puedo ayudarte?\n"
     ]
    }
   ],
   "source": [
    "\n",
    "print(full_model.invoke(\"Que hora es?\").content)"
   ]
  },
  {
   "cell_type": "code",
   "execution_count": null,
   "id": "8219f077",
   "metadata": {},
   "outputs": [],
   "source": []
  },
  {
   "cell_type": "markdown",
   "id": "a139e6b5",
   "metadata": {},
   "source": [
    "### Prueba de RAG"
   ]
  },
  {
   "cell_type": "code",
   "execution_count": 12,
   "id": "743f3f37",
   "metadata": {},
   "outputs": [
    {
     "name": "stdout",
     "output_type": "stream",
     "text": [
      "Índice creado en:\n",
      "  d:\\Cursos\\Agentes de IA para Principiantes\\mi_agente\\data\\faiss_indexes\\vectorized_db.bin\n",
      "Metadatos en:\n",
      "  d:\\Cursos\\Agentes de IA para Principiantes\\mi_agente\\data\\faiss_indexes\\vectorized_db_meta.txt\n"
     ]
    }
   ],
   "source": [
    "client = openai.OpenAI()\n",
    "rag = RAGLocal(root_folder=\"data\", index_folder=\"data/faiss_indexes\", client=client)\n",
    "rag.create_index()"
   ]
  },
  {
   "cell_type": "code",
   "execution_count": 17,
   "id": "c9f933f3",
   "metadata": {},
   "outputs": [
    {
     "name": "stdout",
     "output_type": "stream",
     "text": [
      "1.  una red distribuida de neuronas. A diferencia de los modelos simbólicos, que representan de forma explícita\n",
      "el conocimiento mediante reglas lógicas, las redes neuronales representan el conocimiento de forma implícita, a\n",
      "través de los pesos con los que se modelan las conexiones entre neuronas. El procesamiento subsimbólico de\n",
      "datos típico de las redes neuronales, aunque las hace menos interpretables que los modelos simbólicos, dota a las\n",
      "redes de una capacidad automática de generalización, muy útil a la hora de resolver problemas complejos de\n",
      "aprendizaje.\n",
      "Cuando se entrena una red neuronal, el ajuste de sus pesos para aprender un nuevo concepto afecta a\n",
      "la representación distribuida de otros conceptos con patrones de actividad similares. Cuando se utiliza la\n",
      "red neuronal, ante patrones de actividad similares pero no iguales a los vistos por ella durante su fase de\n",
      "entrenamiento, la red es capaz de generalizar con éxito donde otras técnicas de aprendizaje automático fracasan\n",
      "estrepitosa\n",
      "\n",
      "En cables y pesos neurales baila el saber,  \n",
      "una red que aprende sin reglas que ver.  \n",
      "\n",
      "JuanJo, una red neuronal es un sistema inspirado en el cerebro humano, donde muchas \"neuronas\" artificiales están conectadas en una red. A diferencia de los modelos simbólicos que usan reglas explícitas, estas redes almacenan conocimiento en los pesos de sus conexiones. Gracias a este aprendizaje subsimbólico, pueden generalizar y resolver problemas complejos al reconocer patrones similares a los que han entrenado, incluso si no son exactamente iguales.\n"
     ]
    }
   ],
   "source": [
    "print(\n",
    "    modelo_rag(\n",
    "        query = \"que es una red neuronal\",\n",
    "        rag_client= rag,\n",
    "        prompt_template= prompt,\n",
    "        chat_model = full_model,\n",
    "        k = 1,\n",
    "    ).content\n",
    ")"
   ]
  }
 ],
 "metadata": {
  "kernelspec": {
   "display_name": ".venv",
   "language": "python",
   "name": "python3"
  },
  "language_info": {
   "codemirror_mode": {
    "name": "ipython",
    "version": 3
   },
   "file_extension": ".py",
   "mimetype": "text/x-python",
   "name": "python",
   "nbconvert_exporter": "python",
   "pygments_lexer": "ipython3",
   "version": "3.10.2"
  }
 },
 "nbformat": 4,
 "nbformat_minor": 5
}
