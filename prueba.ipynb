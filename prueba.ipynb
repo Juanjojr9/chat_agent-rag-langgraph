{
 "cells": [
  {
   "cell_type": "code",
   "execution_count": null,
   "id": "2651b4b9",
   "metadata": {
    "vscode": {
     "languageId": "plaintext"
    }
   },
   "outputs": [],
   "source": [
    "from src.config.config import "
   ]
  }
 ],
 "metadata": {
  "language_info": {
   "name": "python"
  }
 },
 "nbformat": 4,
 "nbformat_minor": 5
}
